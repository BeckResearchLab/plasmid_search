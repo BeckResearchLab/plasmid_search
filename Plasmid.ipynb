{
 "cells": [
  {
   "cell_type": "code",
   "execution_count": 1,
   "metadata": {
    "collapsed": true
   },
   "outputs": [],
   "source": [
    "import Bio"
   ]
  },
  {
   "cell_type": "code",
   "execution_count": 2,
   "metadata": {
    "collapsed": true
   },
   "outputs": [],
   "source": [
    "import pandas as pd\n",
    "import numpy as np"
   ]
  },
  {
   "cell_type": "markdown",
   "metadata": {},
   "source": [
    "Clean up the `Resfams.tbl` file by making it tab delimited and stripping off the header, footer, and small woodland creatures that inhabit it.  Save to `Resfams.tsv`."
   ]
  },
  {
   "cell_type": "code",
   "execution_count": 3,
   "metadata": {
    "collapsed": true
   },
   "outputs": [],
   "source": [
    "with open('Resfams.tbl', 'rt') as input, open('Resfams.tsv', 'wt') as output:\n",
    "    line_no = 1;\n",
    "    for line in input:\n",
    "        fields = line.split()\n",
    "        if fields:\n",
    "            if fields[0][0] != '#':\n",
    "                if len(fields) < 19:\n",
    "                    raise Exception(\"Incorrect number of fields\", \"Line %d has fewer than 19 fields after initial split\" % line_no)\n",
    "                else:\n",
    "                    for field in fields[:18]:\n",
    "                        output.write(\"%s\\t\" % field.replace('\"', ''))\n",
    "                    for field in fields[18:len(fields)-1]:\n",
    "                        output.write(\"%s \" % field.replace('\"', ''))\n",
    "                    output.write(\"%s\\n\" % fields[len(fields)-1].replace('\"', ''))\n",
    "            else:\n",
    "                pass\n",
    "        line_no += 1"
   ]
  },
  {
   "cell_type": "markdown",
   "metadata": {},
   "source": [
    "Read the modified table using the fixed width reader.  Note we manually specify the dtypes and column names and skip the header and footer.  Bummer."
   ]
  },
  {
   "cell_type": "code",
   "execution_count": 4,
   "metadata": {},
   "outputs": [
    {
     "data": {
      "text/html": [
       "<div>\n",
       "<style>\n",
       "    .dataframe thead tr:only-child th {\n",
       "        text-align: right;\n",
       "    }\n",
       "\n",
       "    .dataframe thead th {\n",
       "        text-align: left;\n",
       "    }\n",
       "\n",
       "    .dataframe tbody tr th {\n",
       "        vertical-align: top;\n",
       "    }\n",
       "</style>\n",
       "<table border=\"1\" class=\"dataframe\">\n",
       "  <thead>\n",
       "    <tr style=\"text-align: right;\">\n",
       "      <th></th>\n",
       "      <th>target</th>\n",
       "      <th>target_accession</th>\n",
       "      <th>query</th>\n",
       "      <th>query_accesion</th>\n",
       "      <th>full_evalue</th>\n",
       "      <th>full_score</th>\n",
       "      <th>full_bias</th>\n",
       "      <th>best_evalue</th>\n",
       "      <th>best_score</th>\n",
       "      <th>best_bias</th>\n",
       "      <th>exp</th>\n",
       "      <th>reg</th>\n",
       "      <th>clu</th>\n",
       "      <th>ov</th>\n",
       "      <th>env</th>\n",
       "      <th>dom</th>\n",
       "      <th>rep</th>\n",
       "      <th>inc</th>\n",
       "      <th>description</th>\n",
       "    </tr>\n",
       "  </thead>\n",
       "  <tbody>\n",
       "    <tr>\n",
       "      <th>0</th>\n",
       "      <td>CTXM</td>\n",
       "      <td>RF0059</td>\n",
       "      <td>NP_774964.1</td>\n",
       "      <td>-</td>\n",
       "      <td>4.700000e-193</td>\n",
       "      <td>632.8</td>\n",
       "      <td>4.5</td>\n",
       "      <td>5.200000e-193</td>\n",
       "      <td>632.6</td>\n",
       "      <td>4.5</td>\n",
       "      <td>1.0</td>\n",
       "      <td>1.0</td>\n",
       "      <td>0</td>\n",
       "      <td>0</td>\n",
       "      <td>1</td>\n",
       "      <td>1</td>\n",
       "      <td>1</td>\n",
       "      <td>1</td>\n",
       "      <td>CTX-M beta-lactamase (class a) [ARO:3000016]</td>\n",
       "    </tr>\n",
       "    <tr>\n",
       "      <th>1</th>\n",
       "      <td>ClassA</td>\n",
       "      <td>RF0053</td>\n",
       "      <td>NP_774964.1</td>\n",
       "      <td>-</td>\n",
       "      <td>3.200000e-129</td>\n",
       "      <td>422.9</td>\n",
       "      <td>0.5</td>\n",
       "      <td>3.800000e-129</td>\n",
       "      <td>422.7</td>\n",
       "      <td>0.5</td>\n",
       "      <td>1.0</td>\n",
       "      <td>1.0</td>\n",
       "      <td>0</td>\n",
       "      <td>0</td>\n",
       "      <td>1</td>\n",
       "      <td>1</td>\n",
       "      <td>1</td>\n",
       "      <td>1</td>\n",
       "      <td>Class A beta-lactamase [ARO:3000078]</td>\n",
       "    </tr>\n",
       "    <tr>\n",
       "      <th>2</th>\n",
       "      <td>TEM</td>\n",
       "      <td>RF0126</td>\n",
       "      <td>NP_775035.1</td>\n",
       "      <td>-</td>\n",
       "      <td>1.800000e-205</td>\n",
       "      <td>673.4</td>\n",
       "      <td>0.0</td>\n",
       "      <td>2.000000e-205</td>\n",
       "      <td>673.2</td>\n",
       "      <td>0.0</td>\n",
       "      <td>1.0</td>\n",
       "      <td>1.0</td>\n",
       "      <td>0</td>\n",
       "      <td>0</td>\n",
       "      <td>1</td>\n",
       "      <td>1</td>\n",
       "      <td>1</td>\n",
       "      <td>1</td>\n",
       "      <td>TEM beta-lactamase (class a) [ARO:3000014]</td>\n",
       "    </tr>\n",
       "    <tr>\n",
       "      <th>3</th>\n",
       "      <td>ClassA</td>\n",
       "      <td>RF0053</td>\n",
       "      <td>NP_775035.1</td>\n",
       "      <td>-</td>\n",
       "      <td>1.700000e-130</td>\n",
       "      <td>427.1</td>\n",
       "      <td>0.0</td>\n",
       "      <td>1.900000e-130</td>\n",
       "      <td>426.9</td>\n",
       "      <td>0.0</td>\n",
       "      <td>1.0</td>\n",
       "      <td>1.0</td>\n",
       "      <td>0</td>\n",
       "      <td>0</td>\n",
       "      <td>1</td>\n",
       "      <td>1</td>\n",
       "      <td>1</td>\n",
       "      <td>1</td>\n",
       "      <td>Class A beta-lactamase [ARO:3000078]</td>\n",
       "    </tr>\n",
       "    <tr>\n",
       "      <th>4</th>\n",
       "      <td>AAC3</td>\n",
       "      <td>RF0002</td>\n",
       "      <td>NP_775040.1</td>\n",
       "      <td>-</td>\n",
       "      <td>3.400000e-146</td>\n",
       "      <td>478.6</td>\n",
       "      <td>0.4</td>\n",
       "      <td>3.900000e-146</td>\n",
       "      <td>478.4</td>\n",
       "      <td>0.4</td>\n",
       "      <td>1.0</td>\n",
       "      <td>1.0</td>\n",
       "      <td>0</td>\n",
       "      <td>0</td>\n",
       "      <td>1</td>\n",
       "      <td>1</td>\n",
       "      <td>1</td>\n",
       "      <td>1</td>\n",
       "      <td>Aminoglycoside Acetyltransferase (AAC3) [ARO:3...</td>\n",
       "    </tr>\n",
       "  </tbody>\n",
       "</table>\n",
       "</div>"
      ],
      "text/plain": [
       "   target target_accession        query query_accesion    full_evalue  \\\n",
       "0    CTXM           RF0059  NP_774964.1              -  4.700000e-193   \n",
       "1  ClassA           RF0053  NP_774964.1              -  3.200000e-129   \n",
       "2     TEM           RF0126  NP_775035.1              -  1.800000e-205   \n",
       "3  ClassA           RF0053  NP_775035.1              -  1.700000e-130   \n",
       "4    AAC3           RF0002  NP_775040.1              -  3.400000e-146   \n",
       "\n",
       "   full_score  full_bias    best_evalue  best_score  best_bias  exp  reg  clu  \\\n",
       "0       632.8        4.5  5.200000e-193       632.6        4.5  1.0  1.0    0   \n",
       "1       422.9        0.5  3.800000e-129       422.7        0.5  1.0  1.0    0   \n",
       "2       673.4        0.0  2.000000e-205       673.2        0.0  1.0  1.0    0   \n",
       "3       427.1        0.0  1.900000e-130       426.9        0.0  1.0  1.0    0   \n",
       "4       478.6        0.4  3.900000e-146       478.4        0.4  1.0  1.0    0   \n",
       "\n",
       "   ov  env  dom  rep  inc                                        description  \n",
       "0   0    1    1    1    1       CTX-M beta-lactamase (class a) [ARO:3000016]  \n",
       "1   0    1    1    1    1               Class A beta-lactamase [ARO:3000078]  \n",
       "2   0    1    1    1    1         TEM beta-lactamase (class a) [ARO:3000014]  \n",
       "3   0    1    1    1    1               Class A beta-lactamase [ARO:3000078]  \n",
       "4   0    1    1    1    1  Aminoglycoside Acetyltransferase (AAC3) [ARO:3...  "
      ]
     },
     "execution_count": 4,
     "metadata": {},
     "output_type": "execute_result"
    }
   ],
   "source": [
    "df = pd.read_csv('Resfams.tsv', sep='\\t', engine='python',\n",
    "    header=None, error_bad_lines=False, warn_bad_lines=True,\n",
    "    names=[ \"target\", \"target_accession\", \"query\", \"query_accesion\", \"full_evalue\", \"full_score\", \n",
    "           \"full_bias\", \"best_evalue\", \"best_score\", \"best_bias\", \"exp\", \"reg\", \"clu\", \"ov\", \"env\", \n",
    "           \"dom\", \"rep\", \"inc\", \"description\"],\n",
    "    dtype={\n",
    "        \"target\" : object, \n",
    "        \"target_accession\" : object, \n",
    "        \"query\" : object, \n",
    "        \"query_accesion\" : object, \n",
    "        \"full_evalue\" : np.float64, \n",
    "        \"full_score\" : np.float64, \n",
    "        \"full_bias\" : np.float64, \n",
    "        \"best_evalue\" : np.float64, \n",
    "        \"best_score\" : np.float64, \n",
    "        \"best_bias\" : np.float64, \n",
    "        \"exp\" : np.float64, \n",
    "        \"reg\" : np.float64, \n",
    "        \"clu\" : np.int64, \n",
    "        \"ov\" : np.int64, \n",
    "        \"env\" : np.int64, \n",
    "        \"dom\" : np.int64, \n",
    "        \"rep\" : np.int64, \n",
    "        \"inc\" : np.int64, \n",
    "        \"description\" : object, \n",
    "    })\n",
    "df.head()"
   ]
  },
  {
   "cell_type": "code",
   "execution_count": 5,
   "metadata": {},
   "outputs": [
    {
     "data": {
      "text/plain": [
       "(5660, 19)"
      ]
     },
     "execution_count": 5,
     "metadata": {},
     "output_type": "execute_result"
    }
   ],
   "source": [
    "df_min_evalue = df.loc[df.groupby(\"query\")[\"full_evalue\"].idxmin()]\n",
    "df_min_evalue.shape"
   ]
  },
  {
   "cell_type": "code",
   "execution_count": 6,
   "metadata": {},
   "outputs": [
    {
     "data": {
      "text/html": [
       "<div>\n",
       "<style>\n",
       "    .dataframe thead tr:only-child th {\n",
       "        text-align: right;\n",
       "    }\n",
       "\n",
       "    .dataframe thead th {\n",
       "        text-align: left;\n",
       "    }\n",
       "\n",
       "    .dataframe tbody tr th {\n",
       "        vertical-align: top;\n",
       "    }\n",
       "</style>\n",
       "<table border=\"1\" class=\"dataframe\">\n",
       "  <thead>\n",
       "    <tr style=\"text-align: right;\">\n",
       "      <th></th>\n",
       "      <th>target</th>\n",
       "      <th>target_accession</th>\n",
       "      <th>query</th>\n",
       "      <th>query_accesion</th>\n",
       "      <th>full_evalue</th>\n",
       "      <th>full_score</th>\n",
       "      <th>full_bias</th>\n",
       "      <th>best_evalue</th>\n",
       "      <th>best_score</th>\n",
       "      <th>best_bias</th>\n",
       "      <th>exp</th>\n",
       "      <th>reg</th>\n",
       "      <th>clu</th>\n",
       "      <th>ov</th>\n",
       "      <th>env</th>\n",
       "      <th>dom</th>\n",
       "      <th>rep</th>\n",
       "      <th>inc</th>\n",
       "      <th>description</th>\n",
       "    </tr>\n",
       "  </thead>\n",
       "  <tbody>\n",
       "    <tr>\n",
       "      <th>0</th>\n",
       "      <td>CTXM</td>\n",
       "      <td>RF0059</td>\n",
       "      <td>NP_774964.1</td>\n",
       "      <td>-</td>\n",
       "      <td>4.700000e-193</td>\n",
       "      <td>632.8</td>\n",
       "      <td>4.5</td>\n",
       "      <td>5.200000e-193</td>\n",
       "      <td>632.6</td>\n",
       "      <td>4.5</td>\n",
       "      <td>1.0</td>\n",
       "      <td>1.0</td>\n",
       "      <td>0</td>\n",
       "      <td>0</td>\n",
       "      <td>1</td>\n",
       "      <td>1</td>\n",
       "      <td>1</td>\n",
       "      <td>1</td>\n",
       "      <td>CTX-M beta-lactamase (class a) [ARO:3000016]</td>\n",
       "    </tr>\n",
       "  </tbody>\n",
       "</table>\n",
       "</div>"
      ],
      "text/plain": [
       "  target target_accession        query query_accesion    full_evalue  \\\n",
       "0   CTXM           RF0059  NP_774964.1              -  4.700000e-193   \n",
       "\n",
       "   full_score  full_bias    best_evalue  best_score  best_bias  exp  reg  clu  \\\n",
       "0       632.8        4.5  5.200000e-193       632.6        4.5  1.0  1.0    0   \n",
       "\n",
       "   ov  env  dom  rep  inc                                   description  \n",
       "0   0    1    1    1    1  CTX-M beta-lactamase (class a) [ARO:3000016]  "
      ]
     },
     "execution_count": 6,
     "metadata": {},
     "output_type": "execute_result"
    }
   ],
   "source": [
    "df_min_evalue.loc[df_min_evalue[\"query\"] == 'NP_774964.1']"
   ]
  },
  {
   "cell_type": "code",
   "execution_count": 5,
   "metadata": {},
   "outputs": [
    {
     "data": {
      "text/plain": [
       "(1876, 19)"
      ]
     },
     "execution_count": 5,
     "metadata": {},
     "output_type": "execute_result"
    }
   ],
   "source": [
    "df_min_evalue = df.loc[df.groupby(\"query\")[\"full_evalue\"].idxmin()]\n",
    "df_min_evalue.shape"
   ]
  },
  {
   "cell_type": "code",
   "execution_count": 6,
   "metadata": {},
   "outputs": [
    {
     "data": {
      "text/html": [
       "<div>\n",
       "<style>\n",
       "    .dataframe thead tr:only-child th {\n",
       "        text-align: right;\n",
       "    }\n",
       "\n",
       "    .dataframe thead th {\n",
       "        text-align: left;\n",
       "    }\n",
       "\n",
       "    .dataframe tbody tr th {\n",
       "        vertical-align: top;\n",
       "    }\n",
       "</style>\n",
       "<table border=\"1\" class=\"dataframe\">\n",
       "  <thead>\n",
       "    <tr style=\"text-align: right;\">\n",
       "      <th></th>\n",
       "      <th>target</th>\n",
       "      <th>target_accession</th>\n",
       "      <th>query</th>\n",
       "      <th>query_accesion</th>\n",
       "      <th>full_evalue</th>\n",
       "      <th>full_score</th>\n",
       "      <th>full_bias</th>\n",
       "      <th>best_evalue</th>\n",
       "      <th>best_score</th>\n",
       "      <th>best_bias</th>\n",
       "      <th>exp</th>\n",
       "      <th>reg</th>\n",
       "      <th>clu</th>\n",
       "      <th>ov</th>\n",
       "      <th>env</th>\n",
       "      <th>dom</th>\n",
       "      <th>rep</th>\n",
       "      <th>inc</th>\n",
       "      <th>description</th>\n",
       "    </tr>\n",
       "  </thead>\n",
       "  <tbody>\n",
       "    <tr>\n",
       "      <th>0</th>\n",
       "      <td>CTXM</td>\n",
       "      <td>RF0059</td>\n",
       "      <td>NP_774964.1</td>\n",
       "      <td>-</td>\n",
       "      <td>4.700000e-193</td>\n",
       "      <td>632.8</td>\n",
       "      <td>4.5</td>\n",
       "      <td>5.200000e-193</td>\n",
       "      <td>632.6</td>\n",
       "      <td>4.5</td>\n",
       "      <td>1.0</td>\n",
       "      <td>1.0</td>\n",
       "      <td>0</td>\n",
       "      <td>0</td>\n",
       "      <td>1</td>\n",
       "      <td>1</td>\n",
       "      <td>1</td>\n",
       "      <td>1</td>\n",
       "      <td>CTX-M beta-lactamase (class a) [ARO:3000016]</td>\n",
       "    </tr>\n",
       "  </tbody>\n",
       "</table>\n",
       "</div>"
      ],
      "text/plain": [
       "  target target_accession        query query_accesion    full_evalue  \\\n",
       "0   CTXM           RF0059  NP_774964.1              -  4.700000e-193   \n",
       "\n",
       "   full_score  full_bias    best_evalue  best_score  best_bias  exp  reg  clu  \\\n",
       "0       632.8        4.5  5.200000e-193       632.6        4.5  1.0  1.0    0   \n",
       "\n",
       "   ov  env  dom  rep  inc                                   description  \n",
       "0   0    1    1    1    1  CTX-M beta-lactamase (class a) [ARO:3000016]  "
      ]
     },
     "execution_count": 6,
     "metadata": {},
     "output_type": "execute_result"
    }
   ],
   "source": [
    "df_min_evalue.loc[df_min_evalue[\"query\"] == 'NP_774964.1']"
   ]
  },
  {
   "cell_type": "code",
   "execution_count": null,
   "metadata": {
    "collapsed": true
   },
   "outputs": [],
   "source": []
  }
 ],
 "metadata": {
  "kernelspec": {
   "display_name": "Python 3",
   "language": "python",
   "name": "python3"
  },
  "language_info": {
   "codemirror_mode": {
    "name": "ipython",
    "version": 3
   },
   "file_extension": ".py",
   "mimetype": "text/x-python",
   "name": "python",
   "nbconvert_exporter": "python",
   "pygments_lexer": "ipython3",
   "version": "3.6.1"
  }
 },
 "nbformat": 4,
 "nbformat_minor": 2
}

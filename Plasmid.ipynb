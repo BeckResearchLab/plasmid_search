{
 "cells": [
  {
   "cell_type": "code",
   "execution_count": 1,
   "metadata": {
    "collapsed": true
   },
   "outputs": [],
   "source": [
    "import Bio\n"
   ]
  },
  {
   "cell_type": "code",
   "execution_count": 1,
   "metadata": {
    "collapsed": true
   },
   "outputs": [],
   "source": [
    "import pandas as pd\n",
    "import numpy as np"
   ]
  },
  {
   "cell_type": "code",
   "execution_count": 50,
   "metadata": {},
   "outputs": [
    {
     "ename": "NameError",
     "evalue": "name 'np' is not defined",
     "output_type": "error",
     "traceback": [
      "\u001b[0;31m---------------------------------------------------------------------------\u001b[0m",
      "\u001b[0;31mNameError\u001b[0m                                 Traceback (most recent call last)",
      "\u001b[0;32m<ipython-input-50-dfd9fb96b69c>\u001b[0m in \u001b[0;36m<module>\u001b[0;34m()\u001b[0m\n\u001b[1;32m      9\u001b[0m         \u001b[0;34m\"query\"\u001b[0m \u001b[0;34m:\u001b[0m \u001b[0mobject\u001b[0m\u001b[0;34m,\u001b[0m\u001b[0;34m\u001b[0m\u001b[0m\n\u001b[1;32m     10\u001b[0m         \u001b[0;34m\"query_accesion\"\u001b[0m \u001b[0;34m:\u001b[0m \u001b[0mobject\u001b[0m\u001b[0;34m,\u001b[0m\u001b[0;34m\u001b[0m\u001b[0m\n\u001b[0;32m---> 11\u001b[0;31m         \u001b[0;34m\"full_evalue\"\u001b[0m \u001b[0;34m:\u001b[0m \u001b[0mnp\u001b[0m\u001b[0;34m.\u001b[0m\u001b[0mfloat64\u001b[0m\u001b[0;34m,\u001b[0m\u001b[0;34m\u001b[0m\u001b[0m\n\u001b[0m\u001b[1;32m     12\u001b[0m         \u001b[0;34m\"full_score\"\u001b[0m \u001b[0;34m:\u001b[0m \u001b[0mnp\u001b[0m\u001b[0;34m.\u001b[0m\u001b[0mfloat64\u001b[0m\u001b[0;34m,\u001b[0m\u001b[0;34m\u001b[0m\u001b[0m\n\u001b[1;32m     13\u001b[0m         \u001b[0;34m\"full_bias\"\u001b[0m \u001b[0;34m:\u001b[0m \u001b[0mnp\u001b[0m\u001b[0;34m.\u001b[0m\u001b[0mfloat64\u001b[0m\u001b[0;34m,\u001b[0m\u001b[0;34m\u001b[0m\u001b[0m\n",
      "\u001b[0;31mNameError\u001b[0m: name 'np' is not defined"
     ]
    }
   ],
   "source": [
    "df = pd.read_fwf('Resfams.tbl', widths=[21, 11, 21, 11, 10, 7, 6, 10, 7, 6, 4, 4, 4, 4, 4, 4, 4, 4, 1024], \n",
    "    header=None, skiprows=3, skipfooter=10,\n",
    "    names=[ \"target\", \"target_accession\", \"query\", \"query_accesion\", \"full_evalue\", \"full_score\", \n",
    "           \"full_bias\", \"best_evalue\", \"best_score\", \"best_bias\", \"exp\", \"reg\", \"clu\", \"ov\", \"env\", \n",
    "           \"dom\", \"rep\", \"inc\", \"description\" ],\n",
    "    dtypes={\n",
    "        \"target\" : object, \n",
    "        \"target_accession\" : object, \n",
    "        \"query\" : object, \n",
    "        \"query_accesion\" : object, \n",
    "        \"full_evalue\" : np.float64, \n",
    "        \"full_score\" : np.float64, \n",
    "        \"full_bias\" : np.float64, \n",
    "        \"best_evalue\" : np.float64, \n",
    "        \"best_score\" : np.float64, \n",
    "        \"best_bias\" : np.float64, \n",
    "        \"exp\" : np.float64, \n",
    "        \"reg\" : np.float64, \n",
    "        \"clu\" : np.int64, \n",
    "        \"ov\" : np.int64, \n",
    "        \"env\" : np.int64, \n",
    "        \"dom\" : np.int64, \n",
    "        \"rep\" : np.int64, \n",
    "        \"inc\" : np.int64, \n",
    "        \"description\" : object, \n",
    "    })\n",
    "df.head()"
   ]
  },
  {
   "cell_type": "code",
   "execution_count": 45,
   "metadata": {},
   "outputs": [
    {
     "data": {
      "text/plain": [
       "query\n",
       "NP_037570.1      0.0033\n",
       "NP_037571.1     0.00063\n",
       "NP_037574.1     1.1e-26\n",
       "NP_037576.1     1.8e-21\n",
       "NP_040407.1      1.2e-1\n",
       "NP_040409.1     6.5e-05\n",
       "NP_040422.1     1.3e-48\n",
       "NP_040433.1     3.2e-80\n",
       "NP_040437.1     9.9e-87\n",
       "NP_040462.1       1.2e-\n",
       "NP_040465.1    1.1e-104\n",
       "NP_040470.1     2.7e-64\n",
       "NP_040471.1     3.4e-33\n",
       "NP_040475.1      2.2e-1\n",
       "NP_043524.1     1.3e-48\n",
       "NP_044260.1     6.6e-37\n",
       "NP_044301.1     1.2e-43\n",
       "NP_044302.1    2.4e-150\n",
       "NP_044360.1     2.7e-64\n",
       "NP_044444.1     1.1e-12\n",
       "NP_044466.1     1.9e-90\n",
       "NP_045488.1     0.00066\n",
       "NP_045557.1       0.012\n",
       "NP_045650.1     1.4e-39\n",
       "NP_045651.2     2.1e-07\n",
       "NP_046407.1     0.00014\n",
       "NP_047310.1     0.00019\n",
       "NP_047312.1     1.1e-05\n",
       "NP_047316.1     1.2e-20\n",
       "NP_047322.1     2.4e-24\n",
       "                 ...   \n",
       "YP_783929.1     0.00023\n",
       "YP_783930.1     2.2e-18\n",
       "YP_787997.1     1.2e-08\n",
       "YP_788000.1       1e-28\n",
       "YP_788044.1         1e-\n",
       "YP_788126.1     1.8e-41\n",
       "YP_788128.1    3.1e-115\n",
       "YP_794147.1        2e-2\n",
       "YP_796434.1     1.5e-09\n",
       "YP_796443.1     1.1e-45\n",
       "YP_891141.1    2.5e-165\n",
       "YP_891142.1    2.4e-150\n",
       "YP_908414.1    1.1e-119\n",
       "YP_908417.1    1.1e-129\n",
       "YP_908423.1     1.8e-85\n",
       "YP_908524.1      0.0012\n",
       "YP_908601.1    1.1e-129\n",
       "YP_908703.1      0.0012\n",
       "YP_918951.1     7.2e-90\n",
       "YP_976073.1     1.6e-78\n",
       "YP_976074.1    3.2e-103\n",
       "YP_976075.1    7.5e-129\n",
       "YP_976076.1    6.4e-117\n",
       "YP_976077.1    1.6e-190\n",
       "YP_976078.1    2.3e-196\n",
       "YP_976079.1     2.1e-18\n",
       "YP_976080.1    1.2e-107\n",
       "YP_976083.1     2.4e-31\n",
       "YP_976096.1     0.00018\n",
       "YP_976099.1       1e-23\n",
       "Name: full_evalue, Length: 5660, dtype: object"
      ]
     },
     "execution_count": 45,
     "metadata": {},
     "output_type": "execute_result"
    }
   ],
   "source": [
    "df.groupby(\"query\")[\"full_evalue\"].min()"
   ]
  },
  {
   "cell_type": "code",
   "execution_count": 47,
   "metadata": {},
   "outputs": [
    {
     "data": {
      "text/plain": [
       "target               object\n",
       "target_accession     object\n",
       "query                object\n",
       "query_accesion       object\n",
       "full_evalue          object\n",
       "full_score           object\n",
       "full_bias            object\n",
       "best_evalue          object\n",
       "best_score           object\n",
       "best_bias            object\n",
       "exp                 float64\n",
       "reg                 float64\n",
       "clu                   int64\n",
       "ov                    int64\n",
       "env                   int64\n",
       "dom                   int64\n",
       "rep                   int64\n",
       "inc                   int64\n",
       "description          object\n",
       "dtype: object"
      ]
     },
     "execution_count": 47,
     "metadata": {},
     "output_type": "execute_result"
    }
   ],
   "source": [
    "df.dtypes"
   ]
  },
  {
   "cell_type": "code",
   "execution_count": null,
   "metadata": {
    "collapsed": true
   },
   "outputs": [],
   "source": [
    "{\n",
    "\"target\" : object, \n",
    "\"target_accession\" : object, \n",
    "\"query\" : object, \n",
    "\"query_accesion\" : object, \n",
    "\"full_evalue\" : float64, \n",
    "\"full_score\" : float64, \n",
    "\"full_bias\" : float64, \n",
    "\"best_evalue\" : float64, \n",
    "\"best_score\" : float64, \n",
    "\"best_bias\" : float64, \n",
    "\"exp\" : float64, \n",
    "\"reg\" : float64, \n",
    "\"clu\" : int64, \n",
    "\"ov\" : int64, \n",
    "\"env\" : int64, \n",
    "\"dom\" : int64, \n",
    "\"rep\" : int64, \n",
    "\"inc\" : int64, \n",
    "\"description\" : object, \n",
    "},"
   ]
  }
 ],
 "metadata": {
  "kernelspec": {
   "display_name": "Python [conda env:biopython]",
   "language": "python",
   "name": "conda-env-biopython-py"
  },
  "language_info": {
   "codemirror_mode": {
    "name": "ipython",
    "version": 3
   },
   "file_extension": ".py",
   "mimetype": "text/x-python",
   "name": "python",
   "nbconvert_exporter": "python",
   "pygments_lexer": "ipython3",
   "version": "3.6.1"
  }
 },
 "nbformat": 4,
 "nbformat_minor": 2
}
